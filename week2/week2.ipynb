{
 "cells": [
  {
   "cell_type": "code",
   "execution_count": 10,
   "id": "1d117c54",
   "metadata": {},
   "outputs": [
    {
     "name": "stdout",
     "output_type": "stream",
     "text": [
      "Writing results to ../datasets/fasttext/labeled_products.txt\n",
      "100%|█████████████████████████████████████████| 256/256 [00:31<00:00,  8.24it/s]\n"
     ]
    }
   ],
   "source": [
    "!python ../search_with_machine_learning_course/week2/createContentTrainingData.py --input ../datasets/product_data/products/ --output ../datasets/fasttext/labeled_products.txt\n"
   ]
  },
  {
   "cell_type": "code",
   "execution_count": 13,
   "id": "271383d8",
   "metadata": {},
   "outputs": [],
   "source": [
    "!shuf ../datasets/fasttext/labeled_products.txt > ../datasets/fasttext/shuffled_labeled_products.txt\n"
   ]
  },
  {
   "cell_type": "code",
   "execution_count": 21,
   "id": "bb5533e0",
   "metadata": {},
   "outputs": [],
   "source": [
    "def print_results(N, p, r):\n",
    "    print(\"N\\t\" + str(N))\n",
    "    print(\"P@{}\\t{:.3f}\".format(1, p))\n",
    "    print(\"R@{}\\t{:.3f}\".format(1, r))\n"
   ]
  },
  {
   "cell_type": "code",
   "execution_count": 14,
   "id": "2db31b77",
   "metadata": {},
   "outputs": [],
   "source": [
    "!head -n 10000 ../datasets/fasttext/shuffled_labeled_products.txt > ../datasets/fasttext/training_data.txt\n",
    "!tail -n 10000 ../datasets/fasttext/shuffled_labeled_products.txt > ../datasets/fasttext/test_data.txt"
   ]
  },
  {
   "cell_type": "code",
   "execution_count": 36,
   "id": "63f22aea",
   "metadata": {},
   "outputs": [
    {
     "name": "stderr",
     "output_type": "stream",
     "text": [
      "Read 0M words\n",
      "Number of words:  11037\n",
      "Number of labels: 1327\n",
      "Progress:  96.2% words/sec/thread:   27252 lr:  0.003785 avg.loss: 13.435069 ETA:   0h 0m 0s"
     ]
    },
    {
     "name": "stdout",
     "output_type": "stream",
     "text": [
      "N\t9571\n",
      "P@1\t0.105\n",
      "R@1\t0.105\n",
      "CPU times: user 20.8 s, sys: 58 ms, total: 20.9 s\n",
      "Wall time: 3.2 s\n"
     ]
    },
    {
     "name": "stderr",
     "output_type": "stream",
     "text": [
      "\r",
      "Progress: 100.0% words/sec/thread:   27048 lr: -0.000042 avg.loss: 13.328848 ETA:   0h 0m 0s\r",
      "Progress: 100.0% words/sec/thread:   27047 lr:  0.000000 avg.loss: 13.328848 ETA:   0h 0m 0s\n"
     ]
    }
   ],
   "source": [
    "%%time\n",
    "import fasttext\n",
    "classifier1 = fasttext.train_supervised(input=\"../datasets/fasttext/training_data.txt\")\n",
    "print_results(*classifier1.test(\"../datasets/fasttext/test_data.txt\"))\n"
   ]
  },
  {
   "cell_type": "markdown",
   "id": "0b4ee409",
   "metadata": {},
   "source": [
    "## Parameter Tunning"
   ]
  },
  {
   "cell_type": "code",
   "execution_count": 35,
   "id": "a8c7eff0",
   "metadata": {},
   "outputs": [
    {
     "name": "stderr",
     "output_type": "stream",
     "text": [
      "Read 0M words\n",
      "Number of words:  11037\n",
      "Number of labels: 1327\n",
      "Progress: 100.0% words/sec/thread:   26919 lr:  0.000000 avg.loss:  1.125730 ETA:   0h 0m 0s\n"
     ]
    },
    {
     "name": "stdout",
     "output_type": "stream",
     "text": [
      "N\t9571\n",
      "P@1\t0.637\n",
      "R@1\t0.637\n",
      "CPU times: user 1min 42s, sys: 170 ms, total: 1min 42s\n",
      "Wall time: 12.5 s\n"
     ]
    }
   ],
   "source": [
    "%%time\n",
    "classifier2 = fasttext.train_supervised(input=\"../datasets/fasttext/training_data.txt\",lr=1,epoch=25)\n",
    "print_results(*classifier2.test(\"../datasets/fasttext/test_data.txt\"))\n"
   ]
  },
  {
   "cell_type": "code",
   "execution_count": 37,
   "id": "96fbf23b",
   "metadata": {},
   "outputs": [
    {
     "name": "stderr",
     "output_type": "stream",
     "text": [
      "Read 0M words\n",
      "Number of words:  11037\n",
      "Number of labels: 1327\n",
      "Progress: 100.0% words/sec/thread:   27162 lr:  0.000000 avg.loss:  1.442676 ETA:   0h 0m 0s\n"
     ]
    },
    {
     "name": "stdout",
     "output_type": "stream",
     "text": [
      "N\t9571\n",
      "P@1\t0.623\n",
      "R@1\t0.623\n",
      "CPU times: user 1min 43s, sys: 315 ms, total: 1min 43s\n",
      "Wall time: 12.8 s\n"
     ]
    }
   ],
   "source": [
    "%%time\n",
    "classifier3 = fasttext.train_supervised(input=\"../datasets/fasttext/training_data.txt\",lr=1,epoch=25,wordNgrams=2)\n",
    "print_results(*classifier3.test(\"../datasets/fasttext/test_data.txt\"))\n"
   ]
  },
  {
   "cell_type": "markdown",
   "id": "e69cb1b7",
   "metadata": {},
   "source": [
    "## Content Normalization\n",
    " 1. Remove all non-alphanumeric characters other than underscore (which we need for the labels!).\n",
    " 2. Convert all letters to lowercase.\n",
    " 3. Trim excess space characters so that tokens are separated by a single space."
   ]
  },
  {
   "cell_type": "code",
   "execution_count": 41,
   "id": "3fefe2ea",
   "metadata": {},
   "outputs": [],
   "source": [
    "!cat ../datasets/fasttext/training_data.txt |sed -e \"s/\\([.\\!?,'/()]\\)/ \\1 /g\" | tr \"[:upper:]\" \"[:lower:]\" | sed \"s/[^[:alnum:]_]/ /g\" | tr -s ' ' > ../datasets/fasttext/normalized_training_lite.txt\n",
    "!cat ../datasets/fasttext/test_data.txt |sed -e \"s/\\([.\\!?,'/()]\\)/ \\1 /g\" | tr \"[:upper:]\" \"[:lower:]\" | sed \"s/[^[:alnum:]_]/ /g\" | tr -s ' ' > ../datasets/fasttext/normalized_test_lite.txt\n",
    "\n"
   ]
  },
  {
   "cell_type": "code",
   "execution_count": 44,
   "id": "ff2db98a",
   "metadata": {},
   "outputs": [
    {
     "name": "stderr",
     "output_type": "stream",
     "text": [
      "Read 0M words\n",
      "Number of words:  8609\n",
      "Number of labels: 1327\n",
      "Progress: 100.0% words/sec/thread:   26178 lr: -0.000081 avg.loss:  1.356068 ETA:   0h 0m 0s"
     ]
    },
    {
     "name": "stdout",
     "output_type": "stream",
     "text": [
      "N\t9571\n",
      "P@1\t0.617\n",
      "R@1\t0.617\n",
      "CPU times: user 1min 40s, sys: 397 ms, total: 1min 41s\n",
      "Wall time: 12.6 s\n"
     ]
    },
    {
     "name": "stderr",
     "output_type": "stream",
     "text": [
      "\r",
      "Progress: 100.0% words/sec/thread:   26178 lr:  0.000000 avg.loss:  1.356068 ETA:   0h 0m 0s\n"
     ]
    }
   ],
   "source": [
    "%%time\n",
    "classifier4 = fasttext.train_supervised(input=\"../datasets/fasttext/normalized_training_lite.txt\",lr=1,epoch=25,wordNgrams=2)\n",
    "print_results(*classifier4.test(\"../datasets/fasttext/normalized_test_lite.txt\"))"
   ]
  },
  {
   "cell_type": "markdown",
   "id": "4999e058",
   "metadata": {},
   "source": [
    "## Steming "
   ]
  },
  {
   "cell_type": "code",
   "execution_count": 49,
   "id": "e8c5b281",
   "metadata": {},
   "outputs": [
    {
     "name": "stdout",
     "output_type": "stream",
     "text": [
      "Writing results to ../datasets/fasttext/stemmed_labeled_products.txt\n",
      "100%|█████████████████████████████████████████| 256/256 [00:33<00:00,  7.58it/s]\n"
     ]
    }
   ],
   "source": [
    "!python ../search_with_machine_learning_course/week2/createContentTrainingData.py --input ../datasets/product_data/products/ --output ../datasets/fasttext/stemmed_labeled_products.txt\n",
    "!shuf ../datasets/fasttext/stemmed_labeled_products.txt > ../datasets/fasttext/shuffled_stemmed_labeled_products.txt\n",
    "\n"
   ]
  },
  {
   "cell_type": "code",
   "execution_count": 50,
   "id": "fa780582",
   "metadata": {},
   "outputs": [],
   "source": [
    "!head -n 10000 ../datasets/fasttext/shuffled_stemmed_labeled_products.txt > ../datasets/fasttext/stemmed_training_data.txt\n",
    "!tail -n 10000 ../datasets/fasttext/shuffled_stemmed_labeled_products.txt > ../datasets/fasttext/stemmed_test_data.txt\n"
   ]
  },
  {
   "cell_type": "code",
   "execution_count": 52,
   "id": "01ff902e",
   "metadata": {},
   "outputs": [
    {
     "name": "stderr",
     "output_type": "stream",
     "text": [
      "Read 0M words\n",
      "Number of words:  11080\n",
      "Number of labels: 1366\n",
      "Progress: 100.0% words/sec/thread:   25835 lr:  0.000000 avg.loss:  1.189853 ETA:   0h 0m 0s\n"
     ]
    },
    {
     "name": "stdout",
     "output_type": "stream",
     "text": [
      "N\t9698\n",
      "P@1\t0.623\n",
      "R@1\t0.623\n",
      "CPU times: user 1min 47s, sys: 187 ms, total: 1min 47s\n",
      "Wall time: 13.1 s\n"
     ]
    }
   ],
   "source": [
    "%%time\n",
    "import fasttext\n",
    "classifier5 = fasttext.train_supervised(input=\"../datasets/fasttext/stemmed_training_data.txt\",lr=1,epoch=25)\n",
    "print_results(*classifier5.test(\"../datasets/fasttext/stemmed_test_data.txt\"))\n"
   ]
  },
  {
   "cell_type": "markdown",
   "id": "844e54d5",
   "metadata": {},
   "source": [
    "## Pruning "
   ]
  },
  {
   "cell_type": "code",
   "execution_count": 65,
   "id": "6d70c3f1",
   "metadata": {},
   "outputs": [
    {
     "name": "stdout",
     "output_type": "stream",
     "text": [
      "115503\n",
      "('__label__pcmcat209400050001', 'LG - Nitro HD 4G Mobile Phone - Black (AT&T)\\n')\n"
     ]
    }
   ],
   "source": [
    "filepath = '../datasets/fasttext/labeled_products.txt'\n",
    "entries = []\n",
    "with open(filepath) as fp:\n",
    "   line = fp.readline()\n",
    "   while line:\n",
    "       vals = line.split(\" \", 1)\n",
    "       # print(f\"{len(vals)} -> {vals[0]}-{vals[1]}\")\n",
    "       line = fp.readline()\n",
    "       entries.append((vals[0], vals[1]))\n",
    "\n",
    "print(len(entries))\n",
    "print(entries[0])"
   ]
  },
  {
   "cell_type": "code",
   "execution_count": 66,
   "id": "2505d7c5",
   "metadata": {},
   "outputs": [],
   "source": [
    "import pandas as pd\n",
    "df = pd.DataFrame(entries, columns =['Category', 'Name'])"
   ]
  },
  {
   "cell_type": "code",
   "execution_count": 70,
   "id": "1556be94",
   "metadata": {},
   "outputs": [],
   "source": [
    "cat_count = df.groupby(['Category']).Name.count()\n"
   ]
  },
  {
   "cell_type": "code",
   "execution_count": 71,
   "id": "0230a43c",
   "metadata": {},
   "outputs": [
    {
     "name": "stdout",
     "output_type": "stream",
     "text": [
      "32\n",
      "262\n"
     ]
    }
   ],
   "source": [
    "pruned_cats_500 = cat_count[cat_count > 500].index.tolist()\n",
    "print(len(pruned_cats_500))\n",
    "pruned_cats_100 = cat_count[cat_count > 100].index.tolist()\n",
    "print(len(pruned_cats_100))"
   ]
  },
  {
   "cell_type": "code",
   "execution_count": 73,
   "id": "e200b118",
   "metadata": {},
   "outputs": [],
   "source": [
    "input_filepath = '../datasets/fasttext/labeled_products.txt'\n",
    "output_filepath = '../datasets/fasttext/pruned_labeled_products_500.txt'\n",
    "ip_file = open(input_filepath, 'r')\n",
    "op_file = open(output_filepath, 'w')\n",
    "\n",
    "line = ip_file.readline()\n",
    "while line:\n",
    "   vals = line.split(\" \", 1)\n",
    "   line = ip_file.readline()\n",
    "   if vals[0] in pruned_cats_500:\n",
    "       op_file.write(line)\n",
    "\n",
    "ip_file.close()\n",
    "op_file.close()"
   ]
  },
  {
   "cell_type": "code",
   "execution_count": 75,
   "id": "bab82cae",
   "metadata": {},
   "outputs": [],
   "source": [
    "!shuf ../datasets/fasttext/pruned_labeled_products_500.txt > ../datasets/fasttext/shuffled_pruned_labeled_products_500.txt\n"
   ]
  },
  {
   "cell_type": "code",
   "execution_count": 76,
   "id": "e15244a2",
   "metadata": {},
   "outputs": [],
   "source": [
    "!head -n 10000 ../datasets/fasttext/shuffled_pruned_labeled_products_500.txt > ../datasets/fasttext/prune_500_training_data.txt\n",
    "!tail -n 10000 ../datasets/fasttext/shuffled_pruned_labeled_products_500.txt > ../datasets/fasttext/prune_500_test_data.txt\n"
   ]
  },
  {
   "cell_type": "code",
   "execution_count": 77,
   "id": "2fcd4280",
   "metadata": {},
   "outputs": [
    {
     "name": "stderr",
     "output_type": "stream",
     "text": [
      "Read 0M words\n",
      "Number of words:  9226\n",
      "Number of labels: 992\n",
      "Progress: 100.0% words/sec/thread:   35629 lr:  0.000000 avg.loss:  0.750655 ETA:   0h 0m 0s\n"
     ]
    },
    {
     "name": "stdout",
     "output_type": "stream",
     "text": [
      "N\t9656\n",
      "P@1\t0.756\n",
      "R@1\t0.756\n",
      "CPU times: user 1min 19s, sys: 233 ms, total: 1min 19s\n",
      "Wall time: 10 s\n"
     ]
    }
   ],
   "source": [
    "%%time\n",
    "import fasttext\n",
    "classifier6 = fasttext.train_supervised(input=\"../datasets/fasttext/prune_500_training_data.txt\",lr=1,epoch=25)\n",
    "print_results(*classifier6.test(\"../datasets/fasttext/prune_500_test_data.txt\"))\n"
   ]
  },
  {
   "cell_type": "markdown",
   "id": "9f836afb",
   "metadata": {},
   "source": [
    "## Synonymns"
   ]
  },
  {
   "cell_type": "code",
   "execution_count": 79,
   "id": "6697a8cc",
   "metadata": {},
   "outputs": [],
   "source": [
    "!cut -d' ' -f2- ../datasets/fasttext/shuffled_labeled_products.txt > ../datasets/fasttext/titles.txt\n"
   ]
  },
  {
   "cell_type": "code",
   "execution_count": 82,
   "id": "b84be0e7",
   "metadata": {},
   "outputs": [
    {
     "name": "stderr",
     "output_type": "stream",
     "text": [
      "Read 1M words\n",
      "Number of words:  10873\n",
      "Number of labels: 0\n",
      "Progress:  99.5% words/sec/thread:  203514 lr:  0.000257 avg.loss:  1.363375 ETA:   0h 0m 0s"
     ]
    },
    {
     "name": "stdout",
     "output_type": "stream",
     "text": [
      "CPU times: user 28.2 s, sys: 321 ms, total: 28.5 s\n",
      "Wall time: 3.84 s\n"
     ]
    },
    {
     "name": "stderr",
     "output_type": "stream",
     "text": [
      "\r",
      "Progress: 100.0% words/sec/thread:  198353 lr: -0.000002 avg.loss:  1.361880 ETA:   0h 0m 0s\r",
      "Progress: 100.0% words/sec/thread:  198348 lr:  0.000000 avg.loss:  1.361880 ETA:   0h 0m 0s\n"
     ]
    }
   ],
   "source": [
    "%%time\n",
    "model = fasttext.train_unsupervised('../datasets/fasttext/titles.txt', model='skipgram')\n",
    "#model.save_model(\"title_model.bin\")"
   ]
  },
  {
   "cell_type": "code",
   "execution_count": 83,
   "id": "fb6f3708",
   "metadata": {},
   "outputs": [
    {
     "data": {
      "text/plain": [
       "[(0.8632429242134094, 'Saxophone'),\n",
       " (0.8432313203811646, 'Speakerphone'),\n",
       " (0.8210281729698181, 'Microphone'),\n",
       " (0.8071489930152893, 'Telephone'),\n",
       " (0.8069990277290344, 'Earphones'),\n",
       " (0.7941811084747314, 'Ozone'),\n",
       " (0.7836856245994568, 'Headphone'),\n",
       " (0.7751611471176147, 'GoPhone'),\n",
       " (0.7704157829284668, 'Phone'),\n",
       " (0.7541067004203796, 'Telephones')]"
      ]
     },
     "execution_count": 83,
     "metadata": {},
     "output_type": "execute_result"
    }
   ],
   "source": [
    "model.get_nearest_neighbors('iphone')\n"
   ]
  },
  {
   "cell_type": "code",
   "execution_count": 84,
   "id": "766e3e7a",
   "metadata": {},
   "outputs": [
    {
     "data": {
      "text/plain": [
       "[(0.955690324306488, 'iPhone®,'),\n",
       " (0.940699577331543, 'iPhone®'),\n",
       " (0.836539089679718, 'iPod®/iPhone'),\n",
       " (0.8291558027267456, '4S'),\n",
       " (0.820639967918396, 'iPod®/iPhone®'),\n",
       " (0.8167041540145874, '3GS'),\n",
       " (0.8142791986465454, '3G,'),\n",
       " (0.8122727870941162, '3GS,'),\n",
       " (0.808302104473114, '4/4S'),\n",
       " (0.804758608341217, '3G/3GS')]"
      ]
     },
     "execution_count": 84,
     "metadata": {},
     "output_type": "execute_result"
    }
   ],
   "source": [
    "model.get_nearest_neighbors('iPhone')\n"
   ]
  },
  {
   "cell_type": "code",
   "execution_count": 85,
   "id": "57094f7f",
   "metadata": {},
   "outputs": [],
   "source": [
    "!cat ../datasets/fasttext/titles.txt | sed -e \"s/\\([.\\!?,'/()]\\)/ \\1 /g\" | tr \"[:upper:]\" \"[:lower:]\" | sed \"s/[^[:alnum:]]/ /g\" | tr -s ' ' > ../datasets/fasttext/normalized_titles.txt\n"
   ]
  },
  {
   "cell_type": "code",
   "execution_count": 87,
   "id": "87f0eb06",
   "metadata": {},
   "outputs": [
    {
     "name": "stderr",
     "output_type": "stream",
     "text": [
      "Read 1M words\n",
      "Number of words:  8903\n",
      "Number of labels: 0\n",
      "Progress: 100.0% words/sec/thread:  206268 lr:  0.000000 avg.loss:  1.474714 ETA:   0h 0m 0s\n"
     ]
    }
   ],
   "source": [
    "model_norm = fasttext.train_unsupervised('../datasets/fasttext/normalized_titles.txt', model='skipgram')\n"
   ]
  },
  {
   "cell_type": "code",
   "execution_count": 88,
   "id": "f8d23ea7",
   "metadata": {},
   "outputs": [
    {
     "data": {
      "text/plain": [
       "[(0.8629015684127808, '4s'),\n",
       " (0.771943211555481, '3gs'),\n",
       " (0.7652565836906433, 'apple'),\n",
       " (0.7335160970687866, 'ozone'),\n",
       " (0.7167626619338989, 'ifrogz'),\n",
       " (0.7095106840133667, 'ipadâ'),\n",
       " (0.7040247917175293, 'gophone'),\n",
       " (0.7027230858802795, 'amethyst'),\n",
       " (0.696928083896637, 'appleâ'),\n",
       " (0.6963557600975037, 'ipod')]"
      ]
     },
     "execution_count": 88,
     "metadata": {},
     "output_type": "execute_result"
    }
   ],
   "source": [
    "model_norm.get_nearest_neighbors('iphone')\n"
   ]
  },
  {
   "cell_type": "code",
   "execution_count": 89,
   "id": "5fe09305",
   "metadata": {},
   "outputs": [],
   "source": [
    "def get_neighbours(model, query, threshold=0.1):\n",
    "    results = model.get_nearest_neighbors(query)\n",
    "    neighbours = []\n",
    "    for result in results:\n",
    "        if result[0] >= threshold:\n",
    "            neighbours.append(result[1])\n",
    "    return neighbours"
   ]
  },
  {
   "cell_type": "code",
   "execution_count": 90,
   "id": "61c70bab",
   "metadata": {},
   "outputs": [
    {
     "name": "stderr",
     "output_type": "stream",
     "text": [
      "Read 1M words\n",
      "Number of words:  8903\n",
      "Number of labels: 0\n",
      "Progress: 100.0% words/sec/thread:  210602 lr:  0.000000 avg.loss:  1.074682 ETA:   0h 0m 0s\n"
     ]
    }
   ],
   "source": [
    "model_epochs25 = fasttext.train_unsupervised('../datasets/fasttext/normalized_titles.txt', model='skipgram',epoch=25)\n"
   ]
  },
  {
   "cell_type": "code",
   "execution_count": 92,
   "id": "955dba80",
   "metadata": {},
   "outputs": [
    {
     "name": "stdout",
     "output_type": "stream",
     "text": [
      "iphone ['4s', 'apple', 'ipod', '3gs', 'ipad']\n",
      "headphones ['earbud', 'headphone', 'ear', 'earphones', 'earpollution']\n",
      "laptop ['netbook', 'notebook', '176', '177', 'zenbook']\n",
      "freezer ['freezers', 'refrigerator', 'cu', 'side', 'mug']\n",
      "nintendo ['ds', 'wii', 'nintendogs', '3ds', 'gamecube']\n",
      "whirlpool ['biscuit', 'maytag', 'frigidaire', 'ge', 'inglis']\n",
      "kodak ['easyshare', 'm763', 'c813', 'm893', 'm863']\n",
      "ps2 ['playstation', 'ps3', 'gamecube', 'xbox', 'guide']\n",
      "razr ['krzr', 'motorola', 'droid', 'a855', 't720']\n",
      "stratocaster ['telecaster', 'starcaster', 'fretboard', 'strat', 'fender']\n",
      "holiday ['holidays', 'nobr', 'vibes', 'despicable', 'dreidel']\n",
      "plasma ['600hz', 'hdtv', 'viera', '480hz', 'purevision']\n",
      "leather ['leatherskin', 'recliner', 'hipcase', 'armless', 'maccase']\n"
     ]
    }
   ],
   "source": [
    "query_list = ['iphone', 'headphones', 'laptop', 'freezer', 'nintendo', 'whirlpool', 'kodak', 'ps2', 'razr', 'stratocaster', 'holiday', 'plasma', 'leather']\n",
    "for query in query_list:\n",
    "    print(query,get_neighbours(model_epochs25,query)[0:5])\n"
   ]
  },
  {
   "cell_type": "code",
   "execution_count": 95,
   "id": "31eee3cd",
   "metadata": {},
   "outputs": [
    {
     "name": "stdout",
     "output_type": "stream",
     "text": [
      "sort: Broken pipe\r\n"
     ]
    }
   ],
   "source": [
    "!cat ../datasets/fasttext/normalized_titles.txt | tr \" \" \"\\n\" | grep \"....\" | sort | uniq -c | sort -nr | head -1000 | grep -oE '[^ ]+$' >  ../datasets/fasttext/top_words.txt\n"
   ]
  },
  {
   "cell_type": "code",
   "execution_count": 108,
   "id": "a8b3636f",
   "metadata": {},
   "outputs": [],
   "source": [
    "filepath = '../datasets/fasttext/top_words.txt'\n",
    "op_file = open('../datasets/fasttext/synonyms.csv','w')\n",
    "\n",
    "with open(filepath) as fp:\n",
    "   line = fp.readline()\n",
    "   while line:\n",
    "       line = line.strip()\n",
    "       synonyms = get_neighbours(model_epochs25, line, 0.65)\n",
    "       synonym_entry = f\"{line},{','.join(synonyms)}\\n\"\n",
    "       op_file.write(synonym_entry)\n",
    "       line = fp.readline()\n",
    "\n",
    "op_file.close()"
   ]
  },
  {
   "cell_type": "code",
   "execution_count": 110,
   "id": "c7adbc77",
   "metadata": {},
   "outputs": [],
   "source": [
    "!cp ../datasets/fasttext/synonyms.csv ../search_with_machine_learning_course/docker/config/\n",
    "    "
   ]
  },
  {
   "cell_type": "code",
   "execution_count": null,
   "id": "0718c493",
   "metadata": {},
   "outputs": [],
   "source": []
  }
 ],
 "metadata": {
  "kernelspec": {
   "display_name": "Python 3 (ipykernel)",
   "language": "python",
   "name": "python3"
  },
  "language_info": {
   "codemirror_mode": {
    "name": "ipython",
    "version": 3
   },
   "file_extension": ".py",
   "mimetype": "text/x-python",
   "name": "python",
   "nbconvert_exporter": "python",
   "pygments_lexer": "ipython3",
   "version": "3.9.7"
  }
 },
 "nbformat": 4,
 "nbformat_minor": 5
}
