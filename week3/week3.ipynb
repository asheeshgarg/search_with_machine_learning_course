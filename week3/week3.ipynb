{
 "cells": [
  {
   "cell_type": "code",
   "execution_count": 6,
   "id": "0d2fc2e3",
   "metadata": {},
   "outputs": [
    {
     "name": "stdout",
     "output_type": "stream",
     "text": [
      "Best Buy > TV & Home Theater > TVs\r\n",
      "Best Buy > TV & Home Theater > TVs\r\n",
      "Best Buy > Computers & Tablets > E-Readers\r\n",
      "Best Buy > TV & Home Theater > TVs\r\n",
      "Best Buy > TV & Home Theater > TVs\r\n",
      "Best Buy > Magnolia Home Theater > Televisions\r\n",
      "Best Buy > Computers & Tablets > Laptop & Netbook Computers\r\n",
      "Best Buy > Mobile Phones > Mobile Phone Accessories\r\n",
      "Best Buy > TV & Home Theater > TVs\r\n"
     ]
    }
   ],
   "source": [
    "!head ../datasets/train.csv | cut -d , -f3 | python ../search_with_machine_learning_course/week3/leavesToPaths.py --max_depth 3 --input ../datasets/product_data/categories/categories_0001_abcat0010000_to_pcmcat99300050000.xml \n"
   ]
  },
  {
   "cell_type": "code",
   "execution_count": 2,
   "id": "edf41fc4",
   "metadata": {},
   "outputs": [
    {
     "name": "stdout",
     "output_type": "stream",
     "text": [
      "list_to_replace: 1457\n",
      "/Users/ashish/work/corise/code/notebooks/../search_with_machine_learning_course/week3/create_labeled_queries.py:70: SettingWithCopyWarning: \n",
      "A value is trying to be set on a copy of a slice from a DataFrame.\n",
      "Try using .loc[row_indexer,col_indexer] = value instead\n",
      "\n",
      "See the caveats in the documentation: https://pandas.pydata.org/pandas-docs/stable/user_guide/indexing.html#returning-a-view-versus-a-copy\n",
      "  df_norm[\"category\"] = df_norm[\"category\"].replace(replace_dict)\n",
      "len_low_count: 337\n",
      "list_to_replace: 337\n",
      "/Users/ashish/work/corise/code/notebooks/../search_with_machine_learning_course/week3/create_labeled_queries.py:70: SettingWithCopyWarning: \n",
      "A value is trying to be set on a copy of a slice from a DataFrame.\n",
      "Try using .loc[row_indexer,col_indexer] = value instead\n",
      "\n",
      "See the caveats in the documentation: https://pandas.pydata.org/pandas-docs/stable/user_guide/indexing.html#returning-a-view-versus-a-copy\n",
      "  df_norm[\"category\"] = df_norm[\"category\"].replace(replace_dict)\n",
      "len_low_count: 84\n",
      "list_to_replace: 84\n",
      "/Users/ashish/work/corise/code/notebooks/../search_with_machine_learning_course/week3/create_labeled_queries.py:70: SettingWithCopyWarning: \n",
      "A value is trying to be set on a copy of a slice from a DataFrame.\n",
      "Try using .loc[row_indexer,col_indexer] = value instead\n",
      "\n",
      "See the caveats in the documentation: https://pandas.pydata.org/pandas-docs/stable/user_guide/indexing.html#returning-a-view-versus-a-copy\n",
      "  df_norm[\"category\"] = df_norm[\"category\"].replace(replace_dict)\n",
      "len_low_count: 20\n",
      "list_to_replace: 20\n",
      "/Users/ashish/work/corise/code/notebooks/../search_with_machine_learning_course/week3/create_labeled_queries.py:70: SettingWithCopyWarning: \n",
      "A value is trying to be set on a copy of a slice from a DataFrame.\n",
      "Try using .loc[row_indexer,col_indexer] = value instead\n",
      "\n",
      "See the caveats in the documentation: https://pandas.pydata.org/pandas-docs/stable/user_guide/indexing.html#returning-a-view-versus-a-copy\n",
      "  df_norm[\"category\"] = df_norm[\"category\"].replace(replace_dict)\n",
      "len_low_count: 4\n",
      "list_to_replace: 4\n",
      "/Users/ashish/work/corise/code/notebooks/../search_with_machine_learning_course/week3/create_labeled_queries.py:70: SettingWithCopyWarning: \n",
      "A value is trying to be set on a copy of a slice from a DataFrame.\n",
      "Try using .loc[row_indexer,col_indexer] = value instead\n",
      "\n",
      "See the caveats in the documentation: https://pandas.pydata.org/pandas-docs/stable/user_guide/indexing.html#returning-a-view-versus-a-copy\n",
      "  df_norm[\"category\"] = df_norm[\"category\"].replace(replace_dict)\n",
      "len_low_count: 0\n"
     ]
    }
   ],
   "source": [
    "!python ../search_with_machine_learning_course/week3/create_labeled_queries.py --min_queries 10000 --output ../datasets/labeled_query_data_min10000.txt\n"
   ]
  },
  {
   "cell_type": "code",
   "execution_count": 8,
   "id": "7251f063",
   "metadata": {},
   "outputs": [],
   "source": [
    "!shuf ../datasets/labeled_query_data_min10000.txt > ../datasets/min10000_shuffled_labeled_query_data.txt\n",
    "!head -n 200000 ../datasets/min10000_shuffled_labeled_query_data.txt > ../datasets/min10000_labeled_query_test_data.txt\n",
    "!tail -n 10000 ../datasets/min10000_shuffled_labeled_query_data.txt > ../datasets/min1000_labeled_query_test_data.txt"
   ]
  },
  {
   "cell_type": "code",
   "execution_count": 9,
   "id": "19da45ef",
   "metadata": {},
   "outputs": [
    {
     "name": "stdout",
     "output_type": "stream",
     "text": [
      " 1854998 ../datasets/min10000_shuffled_labeled_query_data.txt\r\n"
     ]
    }
   ],
   "source": [
    "!wc -l ../datasets/min10000_shuffled_labeled_query_data.txt\n"
   ]
  },
  {
   "cell_type": "code",
   "execution_count": 10,
   "id": "a246ef43",
   "metadata": {},
   "outputs": [
    {
     "name": "stderr",
     "output_type": "stream",
     "text": [
      "Read 0M words\n",
      "Number of words:  16446\n",
      "Number of labels: 1203\n",
      "Progress: 100.0% words/sec/thread:    9974 lr:  0.000000 avg.loss:  2.073948 ETA:   0h 0m 0s\n"
     ]
    },
    {
     "name": "stdout",
     "output_type": "stream",
     "text": [
      "(9986, 0.5371520128179451, 0.5371520128179451)\n",
      "(9986, 0.33151411976767475, 0.6630282395353495)\n",
      "(9986, 0.24140463315308097, 0.724213899459243)\n"
     ]
    }
   ],
   "source": [
    "import fasttext\n",
    "\n",
    "cat_classifier = fasttext.train_supervised(input=\"../datasets/min10000_labeled_query_training_data.txt\", lr=0.3, epoch=25, wordNgrams=3)\n",
    "print(cat_classifier.test(\"../datasets/min1000_labeled_query_test_data.txt\", k = 1))\n",
    "print(cat_classifier.test(\"../datasets/min1000_labeled_query_test_data.txt\", k = 2))\n",
    "print(cat_classifier.test(\"../datasets/min1000_labeled_query_test_data.txt\", k = 3))"
   ]
  },
  {
   "cell_type": "code",
   "execution_count": 11,
   "id": "577f03d9",
   "metadata": {},
   "outputs": [
    {
     "data": {
      "text/plain": [
       "(('__label__pcmcat156400050037',\n",
       "  '__label__pcmcat209400050001',\n",
       "  '__label__abcat0201011',\n",
       "  '__label__pcmcat201900050009',\n",
       "  '__label__abcat0208009',\n",
       "  '__label__pcmcat209000050007',\n",
       "  '__label__pcmcat209000050008',\n",
       "  '__label__abcat0302013',\n",
       "  '__label__pcmcat171900050024',\n",
       "  '__label__pcmcat218000050002',\n",
       "  '__label__pcmcat158400050073',\n",
       "  '__label__pcmcat143700050032',\n",
       "  '__label__pcmcat171900050029',\n",
       "  '__label__abcat0208011',\n",
       "  '__label__pcmcat208100050009',\n",
       "  '__label__abcat0811003',\n",
       "  '__label__pcmcat214700050000',\n",
       "  '__label__pcmcat207900050011',\n",
       "  '__label__pcmcat144700050004',\n",
       "  '__label__pcmcat143000050007'),\n",
       " array([0.49597031, 0.42262021, 0.0214658 , 0.0180633 , 0.00596503,\n",
       "        0.00454945, 0.00290864, 0.00260897, 0.00234016, 0.00217782,\n",
       "        0.00217669, 0.00209591, 0.00175585, 0.00168301, 0.00130069,\n",
       "        0.00099296, 0.00096092, 0.00088324, 0.00074735, 0.00072374]))"
      ]
     },
     "execution_count": 11,
     "metadata": {},
     "output_type": "execute_result"
    }
   ],
   "source": [
    "pred = cat_classifier.predict(\"Apple iPhone\", k=20)\n",
    "pred"
   ]
  },
  {
   "cell_type": "code",
   "execution_count": null,
   "id": "610c3b74",
   "metadata": {},
   "outputs": [],
   "source": []
  }
 ],
 "metadata": {
  "kernelspec": {
   "display_name": "Python 3 (ipykernel)",
   "language": "python",
   "name": "python3"
  },
  "language_info": {
   "codemirror_mode": {
    "name": "ipython",
    "version": 3
   },
   "file_extension": ".py",
   "mimetype": "text/x-python",
   "name": "python",
   "nbconvert_exporter": "python",
   "pygments_lexer": "ipython3",
   "version": "3.9.7"
  }
 },
 "nbformat": 4,
 "nbformat_minor": 5
}
